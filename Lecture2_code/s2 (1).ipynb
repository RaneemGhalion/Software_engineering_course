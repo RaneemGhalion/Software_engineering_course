{
  "cells": [
    {
      "cell_type": "code",
      "execution_count": null,
      "metadata": {
        "id": "neeS_HvhWmlh"
      },
      "outputs": [],
      "source": [
        "my_student = {\"name\": \"Mohammad Ali\", \"grades\": [70, 88, 90, 99]}"
      ]
    },
    {
      "cell_type": "markdown",
      "metadata": {
        "id": "_0O7Xg8nWzO6"
      },
      "source": [
        "If we want to calculate the average grade of the student, we could create a function to do so:"
      ]
    },
    {
      "cell_type": "code",
      "execution_count": null,
      "metadata": {
        "id": "s2Qpg1bZWpo0"
      },
      "outputs": [],
      "source": [
        "def average_grade(student):\n",
        "    return sum(student[\"grades\"]) / len(student[\"grades\"])"
      ]
    },
    {
      "cell_type": "markdown",
      "metadata": {
        "id": "KiaAYPhHXBYu"
      },
      "source": [
        "However, there is a flaw with this. This function is separate and unrelated from the student (e.g. in a professional program, they could even be in different files), but it depends on the student variable having a particular structure:\n",
        "\n",
        "* The `student` must be a dictionary; and\n",
        "* There must be a `grades` key that must be a list or tuple, so that we can use `sum()` and `len()` on them.\n",
        "\n",
        "It would be great if we could have something inside our dictionary that would return the average grade. That means the function would live in the same place as the data, and then it’s easier to see whether the data we require has changed or not.\n",
        "\n",
        "Something /like/ this:"
      ]
    },
    {
      "cell_type": "code",
      "execution_count": null,
      "metadata": {
        "id": "CSN8op_eW9f7"
      },
      "outputs": [],
      "source": [
        "my_student = {\n",
        "    \"name\": \"Mohammad Ali\",\n",
        "    \"grades\": [70, 88, 90, 99],\n",
        "    \"average\": 0,  # something here to calculate\n",
        "}"
      ]
    },
    {
      "cell_type": "markdown",
      "metadata": {
        "id": "71T465EVXRIp"
      },
      "source": [
        "It would be fantastic if we could do this, and naturally the `'average'` would have to change when then `'grades` changes. It must be a function.\n",
        "\n",
        "*There’s no way to do this in a dictionary*.\n",
        "\n",
        "Sorry!\n",
        "\n",
        "We must use objects for this. We can begin by thinking of objects as things that can store both data and functions that relate to that data.\n",
        "\n",
        "Here’s that (incorrect) dictionary in object format:"
      ]
    },
    {
      "cell_type": "code",
      "execution_count": null,
      "metadata": {
        "id": "LuWVLgnNXPGx"
      },
      "outputs": [],
      "source": [
        "class Student:\n",
        "    def __init__(self, new_name, new_grades):\n",
        "        self.name = new_name\n",
        "        self.grades = new_grades\n",
        "\n",
        "    def average(self):\n",
        "        return sum(self.grades) / len(self.grades)\n"
      ]
    },
    {
      "cell_type": "code",
      "execution_count": null,
      "metadata": {
        "id": "bbT_41U-XJ5O"
      },
      "outputs": [],
      "source": [
        "student_one = Student(\"Mohammad\", [70, 88, 90, 99])\n",
        "student_two = Student(\"Jamal\", [50, 60, 99, 100])\n"
      ]
    },
    {
      "cell_type": "markdown",
      "metadata": {
        "id": "XVw-WTcYXkMy"
      },
      "source": [
        "To create a new object, we use the class name as if it were a function call: `Student()`.\n",
        "\n",
        "Inside the brackets, we put arguments that will map to the `__init__` method in the `Student` class.\n",
        "\n",
        "`Student('Mohammad', [70, 88, 90, 99])` maps to `__init__(self, new_name, new_grades)`.\n",
        "\n",
        "What you end up with is a /thing/ that has two properties, `name` and `grades`."
      ]
    },
    {
      "cell_type": "code",
      "execution_count": null,
      "metadata": {
        "colab": {
          "base_uri": "https://localhost:8080/"
        },
        "id": "4uXe7AYpXevR",
        "outputId": "0dee78c4-66d5-4310-ba03-c282860661c0"
      },
      "outputs": [
        {
          "name": "stdout",
          "output_type": "stream",
          "text": [
            "Mohammad\n",
            "Jamal\n"
          ]
        }
      ],
      "source": [
        "print(student_one.name)\n",
        "print(student_two.name)"
      ]
    },
    {
      "cell_type": "code",
      "execution_count": null,
      "metadata": {
        "colab": {
          "base_uri": "https://localhost:8080/"
        },
        "id": "2ZAslEKdX2hc",
        "outputId": "ae7d7956-8087-466e-e35d-5bccad934926"
      },
      "outputs": [
        {
          "data": {
            "text/plain": [
              "<__main__.Student at 0x7f4c0e8f4670>"
            ]
          },
          "execution_count": 8,
          "metadata": {},
          "output_type": "execute_result"
        }
      ],
      "source": [
        "Student(\"Ahmad\", [70, 88, 90, 99])\n",
        "\n",
        "# def __init__(self, new_name, grades):\n",
        "#  self.name = new_name\n",
        "#  self.grades = new_grades"
      ]
    },
    {
      "cell_type": "code",
      "execution_count": null,
      "metadata": {
        "id": "TVBVC7Z5X7Sk"
      },
      "outputs": [],
      "source": [
        "student_one = Student(\"Ahmad\", [70, 88, 90, 99])\n",
        "student_two = Student(\"Ali\", [50, 60, 99, 100])"
      ]
    },
    {
      "cell_type": "code",
      "execution_count": null,
      "metadata": {
        "id": "dkwIxTkmYIqm"
      },
      "outputs": [],
      "source": [
        "# These are _similar_ to our dictionaries, in that the dictionaries also store values:\n",
        "d_student_one = {\"name\": \"Ahmad\", \"grades\": [70, 88, 90, 99]}\n",
        "d_student_two = {\"name\": \"Ali\", \"grades\": [50, 60, 99, 100]}"
      ]
    },
    {
      "cell_type": "markdown",
      "metadata": {
        "id": "_ilJDD6zYdph"
      },
      "source": [
        "To access them:\n",
        "\n",
        "```\n",
        "student_one.name\n",
        "student_one.grades\n",
        "\n",
        "student_two.name\n",
        "student_two.grades\n",
        "\n",
        "d_student_one['name']\n",
        "d_student_one['grades']\n",
        "\n",
        "d_student_two['name']\n",
        "d_student_two['grades']\n",
        "```"
      ]
    },
    {
      "cell_type": "markdown",
      "metadata": {
        "id": "l76vaeovYmEy"
      },
      "source": [
        " A method is a function which lives in a class.\n",
        "\n",
        "The `average()` method in the Student () class also has access to `self`, the current object. When we call the method:"
      ]
    },
    {
      "cell_type": "code",
      "execution_count": null,
      "metadata": {
        "id": "acdPlfVWY9Jb"
      },
      "outputs": [],
      "source": [
        "class Student:\n",
        "    def __init__(self, new_name, new_grades):\n",
        "        self.name = new_name\n",
        "        self.grades = new_grades\n",
        "\n",
        "    def average(self):\n",
        "        return sum(self.grades) / len(self.grades)"
      ]
    },
    {
      "cell_type": "code",
      "execution_count": null,
      "metadata": {
        "id": "C5E3-wm_ZF_V"
      },
      "outputs": [],
      "source": [
        "student_one = Student(\"Mohammad\", [70, 88, 90, 99])\n",
        "student_two = Student(\"Jamal\", [50, 60, 99, 100])"
      ]
    },
    {
      "cell_type": "code",
      "execution_count": null,
      "metadata": {
        "colab": {
          "base_uri": "https://localhost:8080/"
        },
        "id": "s2bnRcgsYlC6",
        "outputId": "230cbcb2-3754-41c5-e248-7126b8d6fc8e"
      },
      "outputs": [
        {
          "data": {
            "text/plain": [
              "86.75"
            ]
          },
          "execution_count": 214,
          "metadata": {},
          "output_type": "execute_result"
        }
      ],
      "source": [
        "student_one.average()\n",
        "#Student.average(student_one)"
      ]
    },
    {
      "cell_type": "markdown",
      "metadata": {
        "id": "RluYhzQXYz60"
      },
      "source": [
        "What is really happening in the background is:"
      ]
    },
    {
      "cell_type": "code",
      "execution_count": null,
      "metadata": {
        "colab": {
          "base_uri": "https://localhost:8080/"
        },
        "id": "uTu-N44SYdPR",
        "outputId": "596832a0-9d0b-4579-aa31-af65ef36d75c"
      },
      "outputs": [
        {
          "name": "stdout",
          "output_type": "stream",
          "text": [
            "86.75\n"
          ]
        }
      ],
      "source": [
        "print(Student.average(student_one))"
      ]
    },
    {
      "cell_type": "code",
      "execution_count": null,
      "metadata": {
        "id": "Vrs-goPTZfUY"
      },
      "outputs": [],
      "source": [
        "class Movie:\n",
        "    def __init__(current_object, name, year):\n",
        "        current_object.name = name\n",
        "        current_object.year = year"
      ]
    },
    {
      "cell_type": "markdown",
      "metadata": {
        "id": "QTkiJWcxZc_B"
      },
      "source": [
        "I wanted to give you a couple more examples of classes, and try to answer a few frequent questions.\n",
        "\n"
      ]
    },
    {
      "cell_type": "code",
      "execution_count": null,
      "metadata": {
        "colab": {
          "base_uri": "https://localhost:8080/"
        },
        "id": "zkGX5NuLaKmV",
        "outputId": "b7d97e63-2166-49e6-b0bc-9edbf25e196f"
      },
      "outputs": [
        {
          "data": {
            "text/plain": [
              "list"
            ]
          },
          "execution_count": 216,
          "metadata": {},
          "output_type": "execute_result"
        }
      ],
      "source": [
        "movies.__class__"
      ]
    },
    {
      "cell_type": "code",
      "execution_count": null,
      "metadata": {
        "id": "n800YpP-YU-f"
      },
      "outputs": [],
      "source": [
        "class Movie:\n",
        "    def __init__(self, name, year):\n",
        "        self.name = name\n",
        "        self.year = year"
      ]
    },
    {
      "cell_type": "markdown",
      "metadata": {
        "id": "PB-HCxQkZwfU"
      },
      "source": [
        "### **Magic Methods Or Dunder Methods**"
      ]
    },
    {
      "cell_type": "code",
      "execution_count": null,
      "metadata": {
        "id": "KHiw-YrTZq0M"
      },
      "outputs": [],
      "source": [
        "class Student:\n",
        "    def __init__(self, name):\n",
        "        print('Hi Iam There')\n",
        "        self.name = name\n",
        "        self.salary = 15000\n"
      ]
    },
    {
      "cell_type": "code",
      "execution_count": null,
      "metadata": {
        "colab": {
          "base_uri": "https://localhost:8080/"
        },
        "id": "N8OVcI4LZ_lM",
        "outputId": "1fd90053-05ec-4447-af74-ee6677e16411"
      },
      "outputs": [
        {
          "name": "stdout",
          "output_type": "stream",
          "text": [
            "Hi Iam There\n"
          ]
        },
        {
          "data": {
            "text/plain": [
              "15000"
            ]
          },
          "execution_count": 245,
          "metadata": {},
          "output_type": "execute_result"
        }
      ],
      "source": [
        "x = Student(\"Jamal\")\n",
        "x.salary\n"
      ]
    },
    {
      "cell_type": "code",
      "execution_count": null,
      "metadata": {
        "colab": {
          "base_uri": "https://localhost:8080/"
        },
        "id": "GZ7B68lPaC5E",
        "outputId": "67e1e6fb-c7c9-4fb4-86d2-2ad563e508c1"
      },
      "outputs": [
        {
          "data": {
            "text/plain": [
              "(2, 'Matrix')"
            ]
          },
          "execution_count": 266,
          "metadata": {},
          "output_type": "execute_result"
        }
      ],
      "source": [
        "movies = [\"Matrix\", \"Finding Nemo\"]\n",
        "len(movies), movies[0]"
      ]
    },
    {
      "cell_type": "markdown",
      "metadata": {
        "id": "PzkdetFsaPGe"
      },
      "source": [
        "Given an *iterable* (generally a list, tuple, set, or dictionary; something you can iterate over), `len()` gives you the number of elements. For example:"
      ]
    },
    {
      "cell_type": "markdown",
      "metadata": {
        "id": "PMxwzgVracko"
      },
      "source": [
        "We can make `len()` work on our classes too, by adding the `__len__` method:\n"
      ]
    },
    {
      "cell_type": "code",
      "execution_count": null,
      "metadata": {
        "id": "HI8a3n9OaT9e"
      },
      "outputs": [],
      "source": [
        "class Garage:\n",
        "    def __init__(self):\n",
        "        self.cars = []\n",
        "        self.colors = [1,2,3]\n",
        "\n",
        "    def __len__(self):\n",
        "        return len(self.cars)\n",
        "\n"
      ]
    },
    {
      "cell_type": "code",
      "execution_count": null,
      "metadata": {
        "id": "cZ3bRw_2ajsg"
      },
      "outputs": [],
      "source": [
        "ford_garage = Garage()\n",
        "ford_garage.cars.append(\"Fiesta\")\n",
        "ford_garage.cars.append(\"Focus\")"
      ]
    },
    {
      "cell_type": "code",
      "execution_count": null,
      "metadata": {
        "colab": {
          "base_uri": "https://localhost:8080/"
        },
        "id": "JPM_ix7FamaJ",
        "outputId": "47ed15de-370f-4ad5-d31b-e1f3d4e20a98"
      },
      "outputs": [
        {
          "data": {
            "text/plain": [
              "2"
            ]
          },
          "execution_count": 264,
          "metadata": {},
          "output_type": "execute_result"
        }
      ],
      "source": [
        "len(ford_garage)"
      ]
    },
    {
      "cell_type": "code",
      "execution_count": null,
      "metadata": {
        "colab": {
          "base_uri": "https://localhost:8080/",
          "height": 175
        },
        "id": "_HIyZvw8f_Ym",
        "outputId": "536cc1c3-72bc-4656-c651-e978fa226df5"
      },
      "outputs": [
        {
          "ename": "TypeError",
          "evalue": "'Garage' object is not subscriptable",
          "output_type": "error",
          "traceback": [
            "\u001b[0;31m---------------------------------------------------------------------------\u001b[0m",
            "\u001b[0;31mTypeError\u001b[0m                                 Traceback (most recent call last)",
            "\u001b[0;32m<ipython-input-265-c972c39dc774>\u001b[0m in \u001b[0;36m<cell line: 1>\u001b[0;34m()\u001b[0m\n\u001b[0;32m----> 1\u001b[0;31m \u001b[0mford_garage\u001b[0m\u001b[0;34m[\u001b[0m\u001b[0;36m1\u001b[0m\u001b[0;34m]\u001b[0m\u001b[0;34m\u001b[0m\u001b[0;34m\u001b[0m\u001b[0m\n\u001b[0m",
            "\u001b[0;31mTypeError\u001b[0m: 'Garage' object is not subscriptable"
          ]
        }
      ],
      "source": [
        "ford_garage[1]"
      ]
    },
    {
      "cell_type": "markdown",
      "metadata": {
        "id": "SrdMx1d5avlr"
      },
      "source": [
        "We can also use square bracket notation in our `Garage`:"
      ]
    },
    {
      "cell_type": "code",
      "execution_count": null,
      "metadata": {
        "id": "aQnFj4JAaoUA"
      },
      "outputs": [],
      "source": [
        "class Garage:\n",
        "    def __init__(self):\n",
        "        self.cars = []\n",
        "\n",
        "    def __len__(self):\n",
        "        return len(self.cars)\n",
        "\n",
        "    def __getitem__(self, i):\n",
        "        return self.cars[i]\n",
        "\n"
      ]
    },
    {
      "cell_type": "code",
      "execution_count": null,
      "metadata": {
        "id": "g1SX6HvSa1la"
      },
      "outputs": [],
      "source": [
        "ford_garage = Garage()\n",
        "ford_garage.cars.append(\"Fiesta\")\n",
        "ford_garage.cars.append(\"Focus\")"
      ]
    },
    {
      "cell_type": "code",
      "execution_count": null,
      "metadata": {
        "colab": {
          "base_uri": "https://localhost:8080/",
          "height": 35
        },
        "id": "dyTal_poa3m6",
        "outputId": "8ecdfec8-e862-4a46-c267-5103310c04d0"
      },
      "outputs": [
        {
          "data": {
            "application/vnd.google.colaboratory.intrinsic+json": {
              "type": "string"
            },
            "text/plain": [
              "'Fiesta'"
            ]
          },
          "execution_count": 312,
          "metadata": {},
          "output_type": "execute_result"
        }
      ],
      "source": [
        "ford_garage[0]"
      ]
    },
    {
      "cell_type": "code",
      "execution_count": null,
      "metadata": {
        "colab": {
          "base_uri": "https://localhost:8080/"
        },
        "id": "0rNYZ2QVa7nz",
        "outputId": "88281364-4a77-4f3f-a840-8ee515f23b6c"
      },
      "outputs": [
        {
          "name": "stdout",
          "output_type": "stream",
          "text": [
            "Fiesta\n",
            "Focus\n"
          ]
        }
      ],
      "source": [
        "for x in ford_garage:\n",
        "    print(x)"
      ]
    },
    {
      "cell_type": "markdown",
      "metadata": {
        "id": "w0Ndg476bQGm"
      },
      "source": [
        "If you want to print your objects out (and sometimes during development it can be handy, as we’ll see), we can use `__repr__` and `__str__`:\n",
        "\n",
        "* `__repr__` should be used to print out a string representing the object such that with that string you can re-create the object fully.\n",
        "* `__str__` should be used when printing the object out to a user, for example—can be more descriptive or even miss out some details."
      ]
    },
    {
      "cell_type": "code",
      "execution_count": null,
      "metadata": {
        "id": "toluUdIEbGg8"
      },
      "outputs": [],
      "source": [
        "class Garage:\n",
        "    def __init__(self):\n",
        "        self.cars = []\n",
        "\n",
        "    def __repr__(self):\n",
        "        return f\"Garage {self.cars}\"\n",
        "\n",
        "    def __str__(self):\n",
        "        return f\"Garage with {len(self.cars)} cars\"\n"
      ]
    },
    {
      "cell_type": "code",
      "execution_count": null,
      "metadata": {
        "id": "TCPxQLd9bT5e"
      },
      "outputs": [],
      "source": [
        "garage = Garage()\n",
        "garage.cars.append(\"Fiesta\")\n",
        "garage.cars.append(\"Focus\")\n"
      ]
    },
    {
      "cell_type": "code",
      "execution_count": null,
      "metadata": {
        "colab": {
          "base_uri": "https://localhost:8080/"
        },
        "id": "sccNM-4VbXIe",
        "outputId": "c09282e3-ef71-42d0-cd44-ec9285641930"
      },
      "outputs": [
        {
          "name": "stdout",
          "output_type": "stream",
          "text": [
            "Garage with 2 cars\n",
            "Garage with 2 cars\n",
            "Garage ['Fiesta', 'Focus']\n"
          ]
        }
      ],
      "source": [
        "print(garage)\n",
        "print(str(garage))\n",
        "print(repr(garage))"
      ]
    },
    {
      "cell_type": "markdown",
      "metadata": {
        "id": "naFlTDd14OYY"
      },
      "source": [
        "### call Method\n",
        "\n",
        "Python has a set of built-in methods and __call__ is one of them. The __call__ method enables Python programmers to write classes where the instances behave like functions and can be called like a function. When the instance is called as a function; if this method is defined, x(arg1, arg2, ...) is a shorthand for x.__call__(arg1, arg2, ...)."
      ]
    },
    {
      "cell_type": "code",
      "execution_count": null,
      "metadata": {
        "colab": {
          "background_save": true
        },
        "id": "3TY2y6xZ3syM"
      },
      "outputs": [],
      "source": [
        "class Example:\n",
        "    def __init__(self,a):\n",
        "        print(\"Instance Created\")\n",
        "        self.number1 = a\n",
        "\n",
        "\n",
        "    # Defining __call__ method\n",
        "    def __call__(self,b):\n",
        "        print(\"Instance is called via special method\")\n",
        "        return self.number1 + b\n",
        "\n",
        "    def forword(self,b):\n",
        "      return self.number1 + b\n",
        "\n"
      ]
    },
    {
      "cell_type": "code",
      "execution_count": null,
      "metadata": {
        "colab": {
          "base_uri": "https://localhost:8080/"
        },
        "id": "wE5Mc8V_4awQ",
        "outputId": "3d378731-dfc3-470a-afa5-0f2bb9067aba"
      },
      "outputs": [
        {
          "name": "stdout",
          "output_type": "stream",
          "text": [
            "Instance Created\n"
          ]
        },
        {
          "data": {
            "text/plain": [
              "5"
            ]
          },
          "execution_count": 331,
          "metadata": {},
          "output_type": "execute_result"
        }
      ],
      "source": [
        "# Instance created\n",
        "e = Example(5)\n",
        "e.number1"
      ]
    },
    {
      "cell_type": "code",
      "execution_count": null,
      "metadata": {
        "colab": {
          "base_uri": "https://localhost:8080/"
        },
        "id": "cd89G-hg4hJK",
        "outputId": "68a68f32-a108-40e4-867a-acb1e7968541"
      },
      "outputs": [
        {
          "name": "stdout",
          "output_type": "stream",
          "text": [
            "Instance is called via special method\n"
          ]
        },
        {
          "data": {
            "text/plain": [
              "11"
            ]
          },
          "execution_count": 333,
          "metadata": {},
          "output_type": "execute_result"
        }
      ],
      "source": [
        "# __call__ method will be called\n",
        "e.f(6)"
      ]
    },
    {
      "cell_type": "code",
      "execution_count": null,
      "metadata": {
        "id": "LfdEoSyG4t5C"
      },
      "outputs": [],
      "source": [
        "class Product:\n",
        "    def __init__(self):\n",
        "        print(\"Instance Created\")\n",
        "\n",
        "    # Defining __call__ method\n",
        "    def __call__(self, a, b):\n",
        "        print(a * b)"
      ]
    },
    {
      "cell_type": "code",
      "execution_count": null,
      "metadata": {
        "colab": {
          "base_uri": "https://localhost:8080/"
        },
        "id": "JeIqIR0c4wIT",
        "outputId": "3519eea9-7f53-4be9-d3aa-09862f234e50"
      },
      "outputs": [
        {
          "name": "stdout",
          "output_type": "stream",
          "text": [
            "Instance Created\n",
            "200\n"
          ]
        }
      ],
      "source": [
        "# Instance created\n",
        "ans = Product()\n",
        "\n",
        "# __call__ method will be called\n",
        "ans(10, 20)"
      ]
    },
    {
      "cell_type": "code",
      "execution_count": null,
      "metadata": {
        "id": "WAohGaSt5V0B"
      },
      "outputs": [],
      "source": [
        "class adding:\n",
        "\n",
        "    def __init__(self, val):\n",
        "        self.val = val\n",
        "\n",
        "    def __add__(self, val2):\n",
        "        return adding(self.val + ' ' + val2.val)\n",
        "\n"
      ]
    },
    {
      "cell_type": "code",
      "execution_count": null,
      "metadata": {
        "colab": {
          "base_uri": "https://localhost:8080/"
        },
        "id": "rO8GAvBV5e9K",
        "outputId": "5c4059e6-c1d6-41d9-8002-a83d05a84098"
      },
      "outputs": [
        {
          "name": "stdout",
          "output_type": "stream",
          "text": [
            "Hello World\n"
          ]
        }
      ],
      "source": [
        "obj1 = adding(\"Hello\")\n",
        "obj2 = adding(\"World\")\n",
        "obj3 = obj1 + obj2\n",
        "print(obj3.val)"
      ]
    },
    {
      "cell_type": "code",
      "execution_count": null,
      "metadata": {
        "colab": {
          "base_uri": "https://localhost:8080/"
        },
        "id": "nFP8kAql6-mV",
        "outputId": "2a021a51-ea6b-4b83-a2e3-61960c10b2e3"
      },
      "outputs": [
        {
          "name": "stdout",
          "output_type": "stream",
          "text": [
            "False\n"
          ]
        }
      ],
      "source": [
        "class less:\n",
        "    def __init__(self, Marks):\n",
        "        self.Marks = Marks\n",
        "    def __lt__(self, marks):\n",
        "          return self.Marks < marks.Marks\n",
        "\n",
        "student1_marks = less(90)\n",
        "student2_marks = less(88)\n",
        "\n",
        "print(student1_marks < student2_marks)"
      ]
    },
    {
      "cell_type": "code",
      "execution_count": null,
      "metadata": {
        "colab": {
          "base_uri": "https://localhost:8080/"
        },
        "id": "IVs7gVKH7RZw",
        "outputId": "f9081737-c6dd-4623-caeb-3709daefef9d"
      },
      "outputs": [
        {
          "name": "stdout",
          "output_type": "stream",
          "text": [
            "False\n"
          ]
        }
      ],
      "source": [
        "student1_marks = less(90)\n",
        "student2_marks = less(88)\n",
        "\n",
        "print(student1_marks < student2_marks)"
      ]
    },
    {
      "cell_type": "markdown",
      "metadata": {
        "id": "NE503bPuorAf"
      },
      "source": [
        "### Inheritance"
      ]
    },
    {
      "cell_type": "code",
      "execution_count": null,
      "metadata": {
        "id": "L0WWhEdJotVu"
      },
      "outputs": [],
      "source": [
        "class Student:\n",
        "    def __init__(self, name, school):\n",
        "        self.name = name\n",
        "        self.school = school\n",
        "        self.marks = []\n",
        "\n",
        "    def average(self):\n",
        "        return sum(self.marks) / len(self.marks)\n"
      ]
    },
    {
      "cell_type": "code",
      "execution_count": null,
      "metadata": {
        "id": "Z4zY2tp_oqfH"
      },
      "outputs": [],
      "source": [
        "Ali = Student(\"Ali\", \"Oxford\")"
      ]
    },
    {
      "cell_type": "markdown",
      "metadata": {
        "id": "ghg9u3cKodrV"
      },
      "source": [
        "Imagine you’ve got a class like the above, and you want to create a similar class with some extra functionality. For example, a student that not only has marks but also a salary—a `WorkingStudent`:"
      ]
    },
    {
      "cell_type": "code",
      "execution_count": null,
      "metadata": {
        "id": "JKWbJ3MvbauW"
      },
      "outputs": [],
      "source": [
        "class WorkingStudent:\n",
        "    def __init__(self, name, school, salary):\n",
        "        self.name = name\n",
        "        self.school = school\n",
        "        self.marks = []\n",
        "        self.salary = salary\n",
        "\n",
        "    def average(self):\n",
        "        return sum(self.marks) / len(self.marks)"
      ]
    },
    {
      "cell_type": "code",
      "execution_count": null,
      "metadata": {
        "id": "SFaLjI-Nohv9"
      },
      "outputs": [],
      "source": [
        "fadi = WorkingStudent(\"fadi\", \"MIT\", 15.50)"
      ]
    },
    {
      "cell_type": "markdown",
      "metadata": {
        "id": "feblntiso9jp"
      },
      "source": [
        "However you can see there’s a lot of duplication between our `Student` and `WorkingStudent` classes. Instead, we may choose to make our `WorkingStudent` extend the `Student`. It keeps all the same functionality, but we can add more."
      ]
    },
    {
      "cell_type": "code",
      "execution_count": null,
      "metadata": {
        "id": "oUo0Mrpbo27O"
      },
      "outputs": [],
      "source": [
        "class WorkingStudent(Student):\n",
        "    def __init__(self, name, school, salary):\n",
        "        super().__init__(name, school)\n",
        "        self.salary = salary"
      ]
    },
    {
      "cell_type": "code",
      "execution_count": null,
      "metadata": {
        "colab": {
          "base_uri": "https://localhost:8080/"
        },
        "id": "uOAxLNLupBhf",
        "outputId": "5a21270d-8ef6-41ee-b20f-9e17b9bfc80d"
      },
      "outputs": [
        {
          "name": "stdout",
          "output_type": "stream",
          "text": [
            "78.0\n"
          ]
        }
      ],
      "source": [
        "Mohammad = WorkingStudent(\"Mohammad\", \"MIT\", 15.50)\n",
        "Mohammad.marks.append(57)\n",
        "Mohammad.marks.append(99)\n",
        "print(Mohammad.average())\n"
      ]
    },
    {
      "cell_type": "markdown",
      "metadata": {
        "id": "vlGyA8K8pVZs"
      },
      "source": [
        "By the way, notice how the `average()` function doesn’t take any inputs other than `self`. There’s nothing in the brackets.\n",
        "\n",
        "In those cases, and if you think it makes sense, we can make it into a property, just like `marks` and `salary`.\n",
        "\n",
        "All we have to do is:"
      ]
    },
    {
      "cell_type": "code",
      "execution_count": null,
      "metadata": {
        "id": "DBGxTozYpJVZ"
      },
      "outputs": [],
      "source": [
        "class Student:\n",
        "    def __init__(self, name, school):\n",
        "        self.name = name\n",
        "        self.school = school\n",
        "        self.marks = []\n",
        "\n",
        "    @property\n",
        "    def average(self):\n",
        "        return sum(self.marks) / len(self.marks)"
      ]
    },
    {
      "cell_type": "markdown",
      "metadata": {
        "id": "pgLWytJepcVE"
      },
      "source": [
        "Now the `average()` function can be used as if it were a property instead of a method; like so:\n"
      ]
    },
    {
      "cell_type": "code",
      "execution_count": null,
      "metadata": {
        "colab": {
          "base_uri": "https://localhost:8080/"
        },
        "id": "cbxlD8pMpY-b",
        "outputId": "eba3ae2a-2107-486e-e1a0-9f8c88bb1642"
      },
      "outputs": [
        {
          "data": {
            "text/plain": [
              "85.0"
            ]
          },
          "execution_count": 71,
          "metadata": {},
          "output_type": "execute_result"
        }
      ],
      "source": [
        "Hussam = Student(\"Hussam\", \"Stanford\")\n",
        "Hussam.marks.append(80)\n",
        "Hussam.marks.append(90)\n",
        "Hussam.average"
      ]
    },
    {
      "cell_type": "markdown",
      "metadata": {
        "id": "04fh8AohpzAy"
      },
      "source": [
        "You can do that with any method that doesn’t take any arguments. But remember, this method only returns a value calculated from the object’s properties. If you have a method that does things (e.g. save to a database or interact with other things), it can be better to stay with the brackets.\n",
        "\n",
        "Normally:\n",
        "\n",
        "* Brackets: this method does things, performs actions.\n",
        "* No brackets: this is a value (or a value calculated from existing values, in the case of `@property`)."
      ]
    },
    {
      "cell_type": "markdown",
      "metadata": {
        "id": "e07mGbqZtzHH"
      },
      "source": [
        "### Enumerations"
      ]
    },
    {
      "cell_type": "code",
      "execution_count": null,
      "metadata": {
        "id": "aJwP1qtMt2kG"
      },
      "outputs": [],
      "source": [
        "import enum"
      ]
    },
    {
      "cell_type": "code",
      "execution_count": null,
      "metadata": {
        "id": "DpMIzOJHt9Y6"
      },
      "outputs": [],
      "source": [
        "class Color(enum.Enum):\n",
        "    red = 1\n",
        "    green = 2\n",
        "    blue = 3"
      ]
    },
    {
      "cell_type": "code",
      "execution_count": null,
      "metadata": {
        "id": "6qu-Yc_qt_Fu"
      },
      "outputs": [],
      "source": [
        "class Status(enum.Enum):\n",
        "    PENDING = 'pending'\n",
        "    RUNNING = 'running'\n",
        "    COMPLETED = 'completed'"
      ]
    },
    {
      "cell_type": "code",
      "execution_count": null,
      "metadata": {
        "id": "-VqjM_kbuBM3"
      },
      "outputs": [],
      "source": [
        "class UnitVector(enum.Enum):\n",
        "    V1D = (1, )\n",
        "    V2D = (1, 1)\n",
        "    V3D = (1, 1, 1)"
      ]
    },
    {
      "cell_type": "markdown",
      "metadata": {
        "id": "Ox-3DBb0uH5x"
      },
      "source": [
        "Each member of an enumeration has a type of the enumeration class itself:"
      ]
    },
    {
      "cell_type": "code",
      "execution_count": null,
      "metadata": {
        "colab": {
          "base_uri": "https://localhost:8080/"
        },
        "id": "XoOLJQUnuDrn",
        "outputId": "a02f26dc-0c91-4f58-cd91-01f97cc30a3e"
      },
      "outputs": [
        {
          "data": {
            "text/plain": [
              "<Status.PENDING: 'pending'>"
            ]
          },
          "execution_count": 76,
          "metadata": {},
          "output_type": "execute_result"
        }
      ],
      "source": [
        "Status.PENDING"
      ]
    },
    {
      "cell_type": "code",
      "execution_count": null,
      "metadata": {
        "colab": {
          "base_uri": "https://localhost:8080/"
        },
        "id": "7KG8mNVWuKyI",
        "outputId": "c4a56c9a-a813-4447-e7f2-313f75cc31d6"
      },
      "outputs": [
        {
          "data": {
            "text/plain": [
              "<enum 'Status'>"
            ]
          },
          "execution_count": 77,
          "metadata": {},
          "output_type": "execute_result"
        }
      ],
      "source": [
        "type(Status.PENDING)"
      ]
    },
    {
      "cell_type": "code",
      "execution_count": null,
      "metadata": {
        "colab": {
          "base_uri": "https://localhost:8080/"
        },
        "id": "CNk7WSZHuQgR",
        "outputId": "3941ffb2-88ee-42c0-d6c1-e7d172b11fb1"
      },
      "outputs": [
        {
          "data": {
            "text/plain": [
              "True"
            ]
          },
          "execution_count": 78,
          "metadata": {},
          "output_type": "execute_result"
        }
      ],
      "source": [
        "isinstance(Status.PENDING, Status)"
      ]
    },
    {
      "cell_type": "code",
      "execution_count": null,
      "metadata": {
        "colab": {
          "base_uri": "https://localhost:8080/"
        },
        "id": "Eyn_SMaouSo5",
        "outputId": "ffb87f51-0979-4103-cbf5-2d65fc427717"
      },
      "outputs": [
        {
          "data": {
            "text/plain": [
              "('PENDING', 'pending')"
            ]
          },
          "execution_count": 79,
          "metadata": {},
          "output_type": "execute_result"
        }
      ],
      "source": [
        "Status.PENDING.name, Status.PENDING.value"
      ]
    },
    {
      "cell_type": "code",
      "execution_count": null,
      "metadata": {
        "colab": {
          "base_uri": "https://localhost:8080/"
        },
        "id": "TMtI1l5IuUzu",
        "outputId": "17c797af-f9bd-44bb-e9d4-f9c0a8629275"
      },
      "outputs": [
        {
          "data": {
            "text/plain": [
              "True"
            ]
          },
          "execution_count": 80,
          "metadata": {},
          "output_type": "execute_result"
        }
      ],
      "source": [
        "Status.PENDING is Status.PENDING"
      ]
    },
    {
      "cell_type": "code",
      "execution_count": null,
      "metadata": {
        "colab": {
          "base_uri": "https://localhost:8080/"
        },
        "id": "49RdS6FEufzo",
        "outputId": "2ad0e6d0-a67a-4450-9550-2871567561af"
      },
      "outputs": [
        {
          "data": {
            "text/plain": [
              "True"
            ]
          },
          "execution_count": 81,
          "metadata": {},
          "output_type": "execute_result"
        }
      ],
      "source": [
        "Status.PENDING == Status.PENDING"
      ]
    },
    {
      "cell_type": "code",
      "execution_count": null,
      "metadata": {
        "id": "uvWjM8_-uh0X"
      },
      "outputs": [],
      "source": [
        "class Constants(enum.Enum):\n",
        "    ONE = 1\n",
        "    TWO = 2\n",
        "    THREE = 3"
      ]
    },
    {
      "cell_type": "code",
      "execution_count": null,
      "metadata": {
        "colab": {
          "base_uri": "https://localhost:8080/"
        },
        "id": "QkGR6zXMuovY",
        "outputId": "e7adc34d-0530-4fb9-a145-6a085ec06bf3"
      },
      "outputs": [
        {
          "name": "stdout",
          "output_type": "stream",
          "text": [
            "'>' not supported between instances of 'Constants' and 'Constants'\n"
          ]
        }
      ],
      "source": [
        "try:\n",
        "    Constants.ONE > Constants.TWO\n",
        "except TypeError as ex:\n",
        "    print(ex)"
      ]
    },
    {
      "cell_type": "code",
      "execution_count": null,
      "metadata": {
        "colab": {
          "base_uri": "https://localhost:8080/"
        },
        "id": "oNAjkPVPurWw",
        "outputId": "c2d9c23d-2bfa-44c5-b510-18baf2db961a"
      },
      "outputs": [
        {
          "data": {
            "text/plain": [
              "True"
            ]
          },
          "execution_count": 84,
          "metadata": {},
          "output_type": "execute_result"
        }
      ],
      "source": [
        "Status.PENDING in Status"
      ]
    },
    {
      "cell_type": "markdown",
      "metadata": {
        "id": "CC-2HF_-vGRZ"
      },
      "source": [
        "Enums are callables, and we can look up a member by **value** by calling the enumeration:"
      ]
    },
    {
      "cell_type": "code",
      "execution_count": null,
      "metadata": {
        "colab": {
          "base_uri": "https://localhost:8080/"
        },
        "id": "DqSI9XwCu3ic",
        "outputId": "b1d24afe-a004-42fc-d347-0f14ccc55306"
      },
      "outputs": [
        {
          "data": {
            "text/plain": [
              "(<Status.PENDING: 'pending'>, <UnitVector.V2D: (1, 1)>)"
            ]
          },
          "execution_count": 87,
          "metadata": {},
          "output_type": "execute_result"
        }
      ],
      "source": [
        "Status('pending'), UnitVector((1,1))"
      ]
    },
    {
      "cell_type": "code",
      "execution_count": null,
      "metadata": {
        "colab": {
          "base_uri": "https://localhost:8080/"
        },
        "id": "1ZlT4lwsvLJY",
        "outputId": "4c5b49af-81c5-4c10-b161-f4fb9da6a5f5"
      },
      "outputs": [
        {
          "name": "stdout",
          "output_type": "stream",
          "text": [
            "'invalid' is not a valid Status\n"
          ]
        }
      ],
      "source": [
        "try:\n",
        "    Status('invalid')\n",
        "except ValueError as ex:\n",
        "    print(ex)"
      ]
    },
    {
      "cell_type": "code",
      "execution_count": null,
      "metadata": {
        "id": "cE9qBxrkvPBH"
      },
      "outputs": [],
      "source": [
        "class Person:\n",
        "    def __getitem__(self, val):\n",
        "        return f'__getitem__({val}) called...'"
      ]
    },
    {
      "cell_type": "code",
      "execution_count": null,
      "metadata": {
        "colab": {
          "base_uri": "https://localhost:8080/",
          "height": 35
        },
        "id": "tLfgJSmlvWlI",
        "outputId": "a87d0ac6-c0e4-42c7-845e-8f584fab8331"
      },
      "outputs": [
        {
          "data": {
            "application/vnd.google.colaboratory.intrinsic+json": {
              "type": "string"
            },
            "text/plain": [
              "'__getitem__(some value) called...'"
            ]
          },
          "execution_count": 90,
          "metadata": {},
          "output_type": "execute_result"
        }
      ],
      "source": [
        "p = Person()\n",
        "p['some value']"
      ]
    },
    {
      "cell_type": "code",
      "execution_count": null,
      "metadata": {
        "colab": {
          "base_uri": "https://localhost:8080/"
        },
        "id": "ctbLU_1hvYjp",
        "outputId": "adeaad71-e36a-4311-be8a-2741b2ac8142"
      },
      "outputs": [
        {
          "data": {
            "text/plain": [
              "True"
            ]
          },
          "execution_count": 91,
          "metadata": {},
          "output_type": "execute_result"
        }
      ],
      "source": [
        "hasattr(Status, '__getitem__')"
      ]
    },
    {
      "cell_type": "markdown",
      "metadata": {
        "id": "y1qVa8zlw9vF"
      },
      "source": [
        "So we can look up a member by it's name (think of it as a key):"
      ]
    },
    {
      "cell_type": "code",
      "execution_count": null,
      "metadata": {
        "colab": {
          "base_uri": "https://localhost:8080/"
        },
        "id": "9emddtBSvcqp",
        "outputId": "4fbcba2e-3e3a-4f94-8964-65b25efc20d1"
      },
      "outputs": [
        {
          "data": {
            "text/plain": [
              "<Status.PENDING: 'pending'>"
            ]
          },
          "execution_count": 92,
          "metadata": {},
          "output_type": "execute_result"
        }
      ],
      "source": [
        "Status['PENDING']"
      ]
    },
    {
      "cell_type": "markdown",
      "metadata": {
        "id": "LIc-EONayUPa"
      },
      "source": [
        "Example"
      ]
    },
    {
      "cell_type": "code",
      "execution_count": null,
      "metadata": {
        "id": "gWrNR9XDvf-7"
      },
      "outputs": [],
      "source": [
        "payload = \"\"\"\n",
        "{\n",
        "  \"name\": \"Alex\",\n",
        "  \"status\": \"PENDING\"\n",
        "}\n",
        "\"\"\""
      ]
    },
    {
      "cell_type": "code",
      "execution_count": null,
      "metadata": {
        "id": "PQk9y4tLyTU4"
      },
      "outputs": [],
      "source": [
        "import json\n",
        "\n",
        "data = json.loads(payload)"
      ]
    },
    {
      "cell_type": "code",
      "execution_count": null,
      "metadata": {
        "colab": {
          "base_uri": "https://localhost:8080/",
          "height": 35
        },
        "id": "okLtjj09yYJ4",
        "outputId": "c6baf827-87ab-4ca5-fc81-5655d213b817"
      },
      "outputs": [
        {
          "data": {
            "application/vnd.google.colaboratory.intrinsic+json": {
              "type": "string"
            },
            "text/plain": [
              "'PENDING'"
            ]
          },
          "execution_count": 95,
          "metadata": {},
          "output_type": "execute_result"
        }
      ],
      "source": [
        "data['status']"
      ]
    },
    {
      "cell_type": "code",
      "execution_count": null,
      "metadata": {
        "colab": {
          "base_uri": "https://localhost:8080/"
        },
        "id": "_2YdbWX_yaPR",
        "outputId": "ee286b08-fe79-40d0-cf43-53ae05254ea5"
      },
      "outputs": [
        {
          "data": {
            "text/plain": [
              "<Status.PENDING: 'pending'>"
            ]
          },
          "execution_count": 96,
          "metadata": {},
          "output_type": "execute_result"
        }
      ],
      "source": [
        "Status[data['status']]"
      ]
    },
    {
      "cell_type": "markdown",
      "metadata": {
        "id": "UIyh0tSLykyM"
      },
      "source": [
        "## Example 2\n",
        "A natural question given the last example might be: how do we determine if some string corresponds to a member name in our enumeration?"
      ]
    },
    {
      "cell_type": "code",
      "execution_count": null,
      "metadata": {
        "id": "ShJQF8brycXZ"
      },
      "outputs": [],
      "source": [
        "def is_member(en, name):\n",
        "    try:\n",
        "        en[name]\n",
        "    except KeyError:\n",
        "        return False\n",
        "    return True"
      ]
    },
    {
      "cell_type": "code",
      "execution_count": null,
      "metadata": {
        "colab": {
          "base_uri": "https://localhost:8080/"
        },
        "id": "T4mBUGTsyq2p",
        "outputId": "2f8a48a1-a160-4092-8699-700f4482ecf3"
      },
      "outputs": [
        {
          "data": {
            "text/plain": [
              "True"
            ]
          },
          "execution_count": 98,
          "metadata": {},
          "output_type": "execute_result"
        }
      ],
      "source": [
        "is_member(Status, 'PENDING')"
      ]
    },
    {
      "cell_type": "code",
      "execution_count": null,
      "metadata": {
        "colab": {
          "base_uri": "https://localhost:8080/"
        },
        "id": "VEApDrwhysy6",
        "outputId": "df642d5a-4228-4f87-b176-b62f569259c6"
      },
      "outputs": [
        {
          "data": {
            "text/plain": [
              "False"
            ]
          },
          "execution_count": 99,
          "metadata": {},
          "output_type": "execute_result"
        }
      ],
      "source": [
        "is_member(Status, 'pending')"
      ]
    },
    {
      "cell_type": "code",
      "execution_count": null,
      "metadata": {
        "colab": {
          "base_uri": "https://localhost:8080/"
        },
        "id": "t-rSosqdyuw_",
        "outputId": "a1a9295d-f070-4ee4-b33e-3e716022c52c"
      },
      "outputs": [
        {
          "data": {
            "text/plain": [
              "(<Status.PENDING: 'pending'>, None)"
            ]
          },
          "execution_count": 100,
          "metadata": {},
          "output_type": "execute_result"
        }
      ],
      "source": [
        "getattr(Status, 'PENDING', None), getattr(Status, 'OK', None)"
      ]
    },
    {
      "cell_type": "code",
      "execution_count": null,
      "metadata": {
        "colab": {
          "base_uri": "https://localhost:8080/"
        },
        "id": "NZZHasmVy4lA",
        "outputId": "bc30a9f9-5a8d-4b2a-a247-6a0b2ba1b5a7"
      },
      "outputs": [
        {
          "data": {
            "text/plain": [
              "mappingproxy({'PENDING': <Status.PENDING: 'pending'>,\n",
              "              'RUNNING': <Status.RUNNING: 'running'>,\n",
              "              'COMPLETED': <Status.COMPLETED: 'completed'>})"
            ]
          },
          "execution_count": 101,
          "metadata": {},
          "output_type": "execute_result"
        }
      ],
      "source": [
        "Status.__members__"
      ]
    },
    {
      "cell_type": "code",
      "execution_count": null,
      "metadata": {
        "colab": {
          "base_uri": "https://localhost:8080/"
        },
        "id": "XjXSTrrXy_h1",
        "outputId": "1c8cd525-e53d-4496-92aa-6369609f2a38"
      },
      "outputs": [
        {
          "data": {
            "text/plain": [
              "True"
            ]
          },
          "execution_count": 102,
          "metadata": {},
          "output_type": "execute_result"
        }
      ],
      "source": [
        "'PENDING' in Status.__members__"
      ]
    },
    {
      "cell_type": "code",
      "execution_count": null,
      "metadata": {
        "colab": {
          "base_uri": "https://localhost:8080/"
        },
        "id": "fOHTveYMzCCd",
        "outputId": "5d112bfc-1342-40ee-a1ff-71065a86cbb0"
      },
      "outputs": [
        {
          "data": {
            "text/plain": [
              "True"
            ]
          },
          "execution_count": 103,
          "metadata": {},
          "output_type": "execute_result"
        }
      ],
      "source": [
        "'PENDING' in Status.__members__.keys()"
      ]
    },
    {
      "cell_type": "markdown",
      "metadata": {
        "id": "a4J2z1jXzyII"
      },
      "source": [
        "### Aliases"
      ]
    },
    {
      "cell_type": "code",
      "execution_count": null,
      "metadata": {
        "id": "zDqz4cp2zD-1"
      },
      "outputs": [],
      "source": [
        "class NumSides(enum.Enum):\n",
        "    Triangle = 3\n",
        "    Rectangle = 4\n",
        "    Square = 4\n",
        "    Rhombus = 4"
      ]
    },
    {
      "cell_type": "markdown",
      "metadata": {
        "id": "9v5SN2Eo0G5d"
      },
      "source": [
        "As you can see we have two members with different names (names must **always** be unique), but with the **same** value."
      ]
    },
    {
      "cell_type": "code",
      "execution_count": null,
      "metadata": {
        "colab": {
          "base_uri": "https://localhost:8080/"
        },
        "id": "ECTVf9Jiz8gV",
        "outputId": "b2184ec9-baf6-4805-98f9-054c54f0d09f"
      },
      "outputs": [
        {
          "data": {
            "text/plain": [
              "True"
            ]
          },
          "execution_count": 105,
          "metadata": {},
          "output_type": "execute_result"
        }
      ],
      "source": [
        "NumSides.Rectangle is NumSides.Square"
      ]
    },
    {
      "cell_type": "code",
      "execution_count": null,
      "metadata": {
        "colab": {
          "base_uri": "https://localhost:8080/"
        },
        "id": "tVn7NJZez_61",
        "outputId": "3bbc391a-e66e-47a9-a09d-c772a2f9295d"
      },
      "outputs": [
        {
          "data": {
            "text/plain": [
              "True"
            ]
          },
          "execution_count": 106,
          "metadata": {},
          "output_type": "execute_result"
        }
      ],
      "source": [
        "NumSides.Square is NumSides.Rhombus"
      ]
    },
    {
      "cell_type": "code",
      "execution_count": null,
      "metadata": {
        "colab": {
          "base_uri": "https://localhost:8080/"
        },
        "id": "HRM4keJi0SmW",
        "outputId": "8512bace-1087-4cab-8bb5-4c38cfc59b62"
      },
      "outputs": [
        {
          "data": {
            "text/plain": [
              "<NumSides.Rectangle: 4>"
            ]
          },
          "execution_count": 107,
          "metadata": {},
          "output_type": "execute_result"
        }
      ],
      "source": [
        "NumSides(4)"
      ]
    },
    {
      "cell_type": "code",
      "execution_count": null,
      "metadata": {
        "colab": {
          "base_uri": "https://localhost:8080/"
        },
        "id": "vyd7ITjs0X2Y",
        "outputId": "901b7639-ae85-4f13-96a5-3d866672d452"
      },
      "outputs": [
        {
          "data": {
            "text/plain": [
              "[<NumSides.Triangle: 3>, <NumSides.Rectangle: 4>]"
            ]
          },
          "execution_count": 108,
          "metadata": {},
          "output_type": "execute_result"
        }
      ],
      "source": [
        "list(NumSides)"
      ]
    },
    {
      "cell_type": "code",
      "execution_count": null,
      "metadata": {
        "colab": {
          "base_uri": "https://localhost:8080/"
        },
        "id": "Q_wLiz5F0aaY",
        "outputId": "f3a5c847-c25d-4f00-b23e-8ce9a7df219d"
      },
      "outputs": [
        {
          "data": {
            "text/plain": [
              "<NumSides.Rectangle: 4>"
            ]
          },
          "execution_count": 109,
          "metadata": {},
          "output_type": "execute_result"
        }
      ],
      "source": [
        "NumSides['Square']"
      ]
    },
    {
      "cell_type": "code",
      "execution_count": null,
      "metadata": {
        "colab": {
          "base_uri": "https://localhost:8080/"
        },
        "id": "Xs1uLWAL0hUx",
        "outputId": "c5dc9a35-e847-40c2-9655-8ae7cbed9956"
      },
      "outputs": [
        {
          "data": {
            "text/plain": [
              "mappingproxy({'Triangle': <NumSides.Triangle: 3>,\n",
              "              'Rectangle': <NumSides.Rectangle: 4>,\n",
              "              'Square': <NumSides.Rectangle: 4>,\n",
              "              'Rhombus': <NumSides.Rectangle: 4>})"
            ]
          },
          "execution_count": 110,
          "metadata": {},
          "output_type": "execute_result"
        }
      ],
      "source": [
        "NumSides.__members__"
      ]
    },
    {
      "cell_type": "markdown",
      "metadata": {
        "id": "TgJRKs5T0s4r"
      },
      "source": [
        "## *Example:*\n",
        "\n",
        "There are times when the ability to define these aliases can be useful. Let's say you have to deal with statuses that are returned as strings from different systems.\n",
        "\n",
        "These systems may not always define exactly the same strings to mean the same thing (maybe they were developed independently). In a case like this, being able to create aliases could be useful to bring uniformity to our own code.\n",
        "\n",
        "\n",
        "\n",
        "Let's say that the statuses from system 1 are: `ready, busy, finished_no_error, finished_with_errors`\n",
        "\n",
        "And for system 2 we have correspondingly: `ready, processing, ran_ok, errored`\n",
        "\n",
        "And in our own system we might want the statuses: `ready, running, ok, errors`\n",
        "\n",
        "```\n",
        "Us        System 1               System 2\n",
        "-------------------------------------------\n",
        "ready     ready                  ready\n",
        "running   busy                   processing\n",
        "ok        finished_no_error      ran_ok\n",
        "errors    finished_with_errors   errored\n",
        "```"
      ]
    },
    {
      "cell_type": "markdown",
      "metadata": {
        "id": "bu0JfWck1ErO"
      },
      "source": [
        "We can the easily achieve this using this class with aliases:"
      ]
    },
    {
      "cell_type": "code",
      "execution_count": null,
      "metadata": {
        "id": "OMf250HP0j4Z"
      },
      "outputs": [],
      "source": [
        "class Status(enum.Enum):\n",
        "    ready = 'ready'\n",
        "\n",
        "    running = 'running'\n",
        "    busy = 'running'\n",
        "    processing = 'running'\n",
        "\n",
        "    ok = 'ok'\n",
        "    finished_no_error = 'ok'\n",
        "    ran_ok = 'ok'\n",
        "\n",
        "    errors = 'errors'\n",
        "    finished_with_errors = 'errors'\n",
        "    errored = 'errors'"
      ]
    },
    {
      "cell_type": "code",
      "execution_count": null,
      "metadata": {
        "colab": {
          "base_uri": "https://localhost:8080/"
        },
        "id": "59uxCyyA1edp",
        "outputId": "f4bc7cf2-464f-4e23-de55-7692ea023c31"
      },
      "outputs": [
        {
          "data": {
            "text/plain": [
              "[<Status.ready: 'ready'>,\n",
              " <Status.running: 'running'>,\n",
              " <Status.ok: 'ok'>,\n",
              " <Status.errors: 'errors'>]"
            ]
          },
          "execution_count": 112,
          "metadata": {},
          "output_type": "execute_result"
        }
      ],
      "source": [
        "list(Status)"
      ]
    },
    {
      "cell_type": "code",
      "execution_count": null,
      "metadata": {
        "colab": {
          "base_uri": "https://localhost:8080/"
        },
        "id": "lN-KbEsy1hIZ",
        "outputId": "4cfc8402-f3b2-4697-d45d-52ca63531e0b"
      },
      "outputs": [
        {
          "data": {
            "text/plain": [
              "<Status.running: 'running'>"
            ]
          },
          "execution_count": 113,
          "metadata": {},
          "output_type": "execute_result"
        }
      ],
      "source": [
        "Status['busy']"
      ]
    },
    {
      "cell_type": "code",
      "execution_count": null,
      "metadata": {
        "id": "akwMpCI01kzJ"
      },
      "outputs": [],
      "source": [
        "class Status(enum.Enum):\n",
        "    ready = 1\n",
        "\n",
        "    running = 2\n",
        "    busy = 2\n",
        "    processing = 2\n",
        "\n",
        "    ok = 3\n",
        "    finished_no_error = 3\n",
        "    ran_ok = 3\n",
        "\n",
        "    errors = 4\n",
        "    finished_with_errors = 4\n",
        "    errored = 4"
      ]
    },
    {
      "cell_type": "code",
      "execution_count": null,
      "metadata": {
        "colab": {
          "base_uri": "https://localhost:8080/"
        },
        "id": "eiXFQfoW1qd6",
        "outputId": "28c4ec97-dc83-4568-ea77-2402ef9fc116"
      },
      "outputs": [
        {
          "data": {
            "text/plain": [
              "<Status.ok: 3>"
            ]
          },
          "execution_count": 115,
          "metadata": {},
          "output_type": "execute_result"
        }
      ],
      "source": [
        "Status.ran_ok"
      ]
    },
    {
      "cell_type": "code",
      "execution_count": null,
      "metadata": {
        "id": "dbm6pRCC17hV"
      },
      "outputs": [],
      "source": [
        "status = 'ran_ok'"
      ]
    },
    {
      "cell_type": "code",
      "execution_count": null,
      "metadata": {
        "colab": {
          "base_uri": "https://localhost:8080/"
        },
        "id": "8FQeqDNW2BKP",
        "outputId": "d6d37121-85fb-4c30-f2d5-043a3f5ef37d"
      },
      "outputs": [
        {
          "data": {
            "text/plain": [
              "mappingproxy({'ready': <Status.ready: 1>,\n",
              "              'running': <Status.running: 2>,\n",
              "              'busy': <Status.running: 2>,\n",
              "              'processing': <Status.running: 2>,\n",
              "              'ok': <Status.ok: 3>,\n",
              "              'finished_no_error': <Status.ok: 3>,\n",
              "              'ran_ok': <Status.ok: 3>,\n",
              "              'errors': <Status.errors: 4>,\n",
              "              'finished_with_errors': <Status.errors: 4>,\n",
              "              'errored': <Status.errors: 4>})"
            ]
          },
          "execution_count": 120,
          "metadata": {},
          "output_type": "execute_result"
        }
      ],
      "source": [
        "Status.__members__"
      ]
    },
    {
      "cell_type": "code",
      "execution_count": null,
      "metadata": {
        "colab": {
          "base_uri": "https://localhost:8080/"
        },
        "id": "V3ZA54Ry1uMa",
        "outputId": "1f57b056-0733-45da-b59e-c67cbfc88711"
      },
      "outputs": [
        {
          "data": {
            "text/plain": [
              "True"
            ]
          },
          "execution_count": 119,
          "metadata": {},
          "output_type": "execute_result"
        }
      ],
      "source": [
        "status in Status.__members__"
      ]
    },
    {
      "cell_type": "markdown",
      "metadata": {
        "id": "sg8RHcfR2Gpv"
      },
      "source": [
        "### Ensuring No Aliases"
      ]
    },
    {
      "cell_type": "code",
      "execution_count": null,
      "metadata": {
        "id": "oLTyqepP1yrq"
      },
      "outputs": [],
      "source": [
        "@enum.unique\n",
        "class Status(enum.Enum):\n",
        "    ready = 1\n",
        "    done_ok = 2\n",
        "    errors = 3"
      ]
    },
    {
      "cell_type": "code",
      "execution_count": null,
      "metadata": {
        "colab": {
          "base_uri": "https://localhost:8080/"
        },
        "id": "5FzZwwqO2KsV",
        "outputId": "6d154f43-e0c6-4194-e411-81217cfcfe16"
      },
      "outputs": [
        {
          "name": "stdout",
          "output_type": "stream",
          "text": [
            "duplicate values found in <enum 'Status'>: waiting -> ready\n"
          ]
        }
      ],
      "source": [
        "try:\n",
        "    @enum.unique\n",
        "    class Status(enum.Enum):\n",
        "        ready = 1\n",
        "        waiting = 1\n",
        "        done_ok = 2\n",
        "        errors = 3\n",
        "except ValueError as ex:\n",
        "    print(ex)"
      ]
    },
    {
      "cell_type": "markdown",
      "metadata": {
        "id": "69VVwHueB97j"
      },
      "source": [
        "## Automatic Values"
      ]
    },
    {
      "cell_type": "code",
      "execution_count": null,
      "metadata": {
        "id": "FX2NimYj_3aB"
      },
      "outputs": [],
      "source": [
        "class State(enum.Enum):\n",
        "    WAITING = enum.auto()\n",
        "    STARTED = enum.auto()\n",
        "    FINISHED = enum.auto()"
      ]
    },
    {
      "cell_type": "code",
      "execution_count": null,
      "metadata": {
        "colab": {
          "base_uri": "https://localhost:8080/"
        },
        "id": "myCxNNc-CIJw",
        "outputId": "bc33aa2c-ee07-41a3-9304-74bff89170c0"
      },
      "outputs": [
        {
          "name": "stdout",
          "output_type": "stream",
          "text": [
            "WAITING 1\n",
            "STARTED 2\n",
            "FINISHED 3\n"
          ]
        }
      ],
      "source": [
        "for member in State:\n",
        "    print(member.name, member.value)"
      ]
    },
    {
      "cell_type": "markdown",
      "metadata": {
        "id": "fiIT2AVHCPfx"
      },
      "source": [
        "We can actually mix in our own values too, but we have to be really careful - nothing in the Python documentation states what will/will not work - their only advice is ```Care must be taken if you mix auto with other values```. That's not saying much, and so I **never** mix auto-generated values and my own - just to be on the safe side."
      ]
    },
    {
      "cell_type": "code",
      "execution_count": null,
      "metadata": {
        "id": "axmw74p1COoM"
      },
      "outputs": [],
      "source": [
        "class State(enum.Enum):\n",
        "    WAITING = 5\n",
        "    STARTED = enum.auto()\n",
        "    FINISHED = enum.auto()"
      ]
    },
    {
      "cell_type": "code",
      "execution_count": null,
      "metadata": {
        "colab": {
          "base_uri": "https://localhost:8080/"
        },
        "id": "Mu4ALk92CKjt",
        "outputId": "dc0e1ba2-2013-497c-ad82-a6e055e10196"
      },
      "outputs": [
        {
          "name": "stdout",
          "output_type": "stream",
          "text": [
            "WAITING 5\n",
            "STARTED 6\n",
            "FINISHED 7\n"
          ]
        }
      ],
      "source": [
        "for member in State:\n",
        "    print(member.name, member.value)"
      ]
    },
    {
      "cell_type": "code",
      "execution_count": null,
      "metadata": {
        "colab": {
          "base_uri": "https://localhost:8080/"
        },
        "id": "1sLaGyXOCZqP",
        "outputId": "5ed2f6b8-20a3-40b2-8b5b-da24413d1ee2"
      },
      "outputs": [
        {
          "name": "stdout",
          "output_type": "stream",
          "text": [
            "WAITING 1\n",
            "FINISHED 2\n"
          ]
        },
        {
          "data": {
            "text/plain": [
              "mappingproxy({'WAITING': <State.WAITING: 1>,\n",
              "              'STARTED': <State.WAITING: 1>,\n",
              "              'FINISHED': <State.FINISHED: 2>})"
            ]
          },
          "execution_count": 176,
          "metadata": {},
          "output_type": "execute_result"
        }
      ],
      "source": [
        "class State(enum.Enum):\n",
        "    WAITING = enum.auto()\n",
        "    STARTED = 1\n",
        "    FINISHED = enum.auto()\n",
        "\n",
        "for member in State:\n",
        "    print(member.name, member.value)\n",
        "\n",
        "State.__members__"
      ]
    },
    {
      "cell_type": "markdown",
      "metadata": {
        "id": "dJ0FRxxnCqi8"
      },
      "source": [
        "As you can see, `STARTED` ended up being an alias for `WAITING` - not what my intention was.\n",
        "\n",
        "Using `@unique` does not solve the issue, although it does make it immediately clear that there is a problem:"
      ]
    },
    {
      "cell_type": "code",
      "execution_count": null,
      "metadata": {
        "colab": {
          "base_uri": "https://localhost:8080/"
        },
        "id": "0G8_sJL9CpQ8",
        "outputId": "11e60b79-1338-41a4-e639-e3ade10a96e1"
      },
      "outputs": [
        {
          "name": "stdout",
          "output_type": "stream",
          "text": [
            "duplicate values found in <enum 'State'>: STARTED -> WAITING\n"
          ]
        }
      ],
      "source": [
        "try:\n",
        "    @enum.unique\n",
        "    class State(enum.Enum):\n",
        "        WAITING = enum.auto()\n",
        "        STARTED = 1\n",
        "        FINISHED = enum.auto()\n",
        "except ValueError as ex:\n",
        "    print(ex)"
      ]
    },
    {
      "cell_type": "markdown",
      "metadata": {
        "id": "72SReD8xC0hM"
      },
      "source": [
        "Enum classes use the `_generate_next_value_` method to generate these automatic values, and we can actually override this to provide our implementation of an automatic value. The default implemtation currently generates a sequence of numbers, but the actual algorithm is an implementation detail - i.e. we cannot rely on any specific sequence of values being generated.\n",
        "\n",
        "We can however override it if we wish:"
      ]
    },
    {
      "cell_type": "code",
      "execution_count": null,
      "metadata": {
        "colab": {
          "base_uri": "https://localhost:8080/"
        },
        "id": "NIrYAXqyChU3",
        "outputId": "789c71a1-dde1-467a-c9e8-4a1b54080945"
      },
      "outputs": [
        {
          "name": "stdout",
          "output_type": "stream",
          "text": [
            "a 1 0 []\n",
            "b 1 1 [100]\n",
            "c 1 2 [100, 100]\n"
          ]
        }
      ],
      "source": [
        "class State(enum.Enum):\n",
        "    def _generate_next_value_(name, start, count, last_values):\n",
        "        print(name, start, count, last_values)\n",
        "        return 100\n",
        "\n",
        "    a = enum.auto()\n",
        "    b = enum.auto()\n",
        "    c = enum.auto()"
      ]
    },
    {
      "cell_type": "markdown",
      "metadata": {
        "id": "LhOlyqGIC-JP"
      },
      "source": [
        "Let's see a more interesting example of how we could use this override. Let's say we want the associated values to be random integers, where we do not want duplicates."
      ]
    },
    {
      "cell_type": "code",
      "execution_count": null,
      "metadata": {
        "id": "U7wtnibMC4fb"
      },
      "outputs": [],
      "source": [
        "import random\n",
        "\n",
        "random.seed(0)\n",
        "\n",
        "class State(enum.Enum):\n",
        "    def _generate_next_value_(name, start, count, last_values):\n",
        "        while True:\n",
        "            new_value = random.randint(1, 100)\n",
        "            if new_value not in last_values:\n",
        "                return new_value\n",
        "\n",
        "    a = enum.auto()\n",
        "    b = enum.auto()\n",
        "    c = enum.auto()"
      ]
    },
    {
      "cell_type": "code",
      "execution_count": null,
      "metadata": {
        "colab": {
          "base_uri": "https://localhost:8080/"
        },
        "id": "hB3ggP6FDCx0",
        "outputId": "46f0461b-e56e-4a9b-9e20-b06d8e7ebbfe"
      },
      "outputs": [
        {
          "name": "stdout",
          "output_type": "stream",
          "text": [
            "a 50\n",
            "b 98\n",
            "c 54\n"
          ]
        }
      ],
      "source": [
        "for member in State:\n",
        "    print(member.name, member.value)"
      ]
    },
    {
      "cell_type": "markdown",
      "metadata": {
        "id": "aeQ2z61dDfri"
      },
      "source": [
        "Another example, shown in the Python docs is using the string of the member name as the value. In this example I choose to title case the name:"
      ]
    },
    {
      "cell_type": "code",
      "execution_count": null,
      "metadata": {
        "colab": {
          "base_uri": "https://localhost:8080/"
        },
        "id": "02ZBkwhjDSEc",
        "outputId": "99df8433-ab59-49f7-b733-b487e67302ec"
      },
      "outputs": [
        {
          "name": "stdout",
          "output_type": "stream",
          "text": [
            "WAITING Waiting\n",
            "STARTED Started\n",
            "FINISHED Finished\n"
          ]
        }
      ],
      "source": [
        "class State(enum.Enum):\n",
        "    def _generate_next_value_(name, start, count, last_values):\n",
        "        return name.title()\n",
        "\n",
        "    WAITING = enum.auto()\n",
        "    STARTED = enum.auto()\n",
        "    FINISHED = enum.auto()\n",
        "\n",
        "for member in State:\n",
        "    print(member.name, member.value)"
      ]
    },
    {
      "cell_type": "code",
      "execution_count": null,
      "metadata": {
        "id": "_nHPrtAvDh8I"
      },
      "outputs": [],
      "source": [
        "class NameAsString(enum.Enum):\n",
        "    def _generate_next_value_(name, start, count, last_values):\n",
        "        return name.lower()"
      ]
    },
    {
      "cell_type": "code",
      "execution_count": null,
      "metadata": {
        "id": "q3wKEcg1DlUJ"
      },
      "outputs": [],
      "source": [
        "class Enum1(NameAsString):\n",
        "    A = enum.auto()\n",
        "    B = enum.auto()\n",
        "\n",
        "class Enum2(NameAsString):\n",
        "    WAIT = enum.auto()\n",
        "    RUNNING = enum.auto()\n",
        "    FINISHED = enum.auto()"
      ]
    },
    {
      "cell_type": "code",
      "execution_count": null,
      "metadata": {
        "colab": {
          "base_uri": "https://localhost:8080/"
        },
        "id": "GeedWsfyDrvu",
        "outputId": "302e6a33-86ac-45b0-efeb-7b6ef456da60"
      },
      "outputs": [
        {
          "name": "stdout",
          "output_type": "stream",
          "text": [
            "A a\n",
            "B b\n",
            "WAIT wait\n",
            "RUNNING running\n",
            "FINISHED finished\n"
          ]
        }
      ],
      "source": [
        "for member in Enum1:\n",
        "    print(member.name, member.value)\n",
        "\n",
        "for member in Enum2:\n",
        "    print(member.name, member.value)"
      ]
    },
    {
      "cell_type": "code",
      "execution_count": null,
      "metadata": {
        "colab": {
          "base_uri": "https://localhost:8080/"
        },
        "id": "MDZsQ7lSDtzH",
        "outputId": "e3cb7ef2-2ff0-40f6-c099-6a570548212a"
      },
      "outputs": [
        {
          "name": "stdout",
          "output_type": "stream",
          "text": [
            "count=3\n",
            "count=4\n",
            "count=5\n"
          ]
        }
      ],
      "source": [
        "class Aliased(enum.Enum):\n",
        "    def _generate_next_value_(name, start, count, last_values):\n",
        "        print(f'count={count}')\n",
        "        if count % 2 == 1:\n",
        "            # odd, make this member an alias of the previous one\n",
        "            return last_values[-1]\n",
        "        else:\n",
        "            # make a new value\n",
        "            return last_values[-1] + 1\n",
        "\n",
        "    GREEN = 1\n",
        "    GREEN_ALIAS = 1\n",
        "    RED = 10\n",
        "    CRIMSON = enum.auto()\n",
        "    BLUE = enum.auto()\n",
        "    AQUA = enum.auto()"
      ]
    },
    {
      "cell_type": "code",
      "execution_count": null,
      "metadata": {
        "colab": {
          "base_uri": "https://localhost:8080/"
        },
        "id": "qy6EO6XuEP36",
        "outputId": "6366b111-e182-40ef-bee3-095f3816708a"
      },
      "outputs": [
        {
          "data": {
            "text/plain": [
              "[<Aliased.GREEN: 1>, <Aliased.RED: 10>, <Aliased.BLUE: 11>]"
            ]
          },
          "execution_count": 186,
          "metadata": {},
          "output_type": "execute_result"
        }
      ],
      "source": [
        "list(Aliased)"
      ]
    },
    {
      "cell_type": "code",
      "execution_count": null,
      "metadata": {
        "colab": {
          "base_uri": "https://localhost:8080/"
        },
        "id": "YYGdU2oWER6k",
        "outputId": "849651aa-4c34-40b1-d6d2-9fe8c94ff5f0"
      },
      "outputs": [
        {
          "data": {
            "text/plain": [
              "mappingproxy({'GREEN': <Aliased.GREEN: 1>,\n",
              "              'GREEN_ALIAS': <Aliased.GREEN: 1>,\n",
              "              'RED': <Aliased.RED: 10>,\n",
              "              'CRIMSON': <Aliased.RED: 10>,\n",
              "              'BLUE': <Aliased.BLUE: 11>,\n",
              "              'AQUA': <Aliased.BLUE: 11>})"
            ]
          },
          "execution_count": 187,
          "metadata": {},
          "output_type": "execute_result"
        }
      ],
      "source": [
        "Aliased.__members__"
      ]
    },
    {
      "cell_type": "code",
      "execution_count": null,
      "metadata": {
        "id": "er9BXcRkEUNW"
      },
      "outputs": [],
      "source": []
    }
  ],
  "metadata": {
    "colab": {
      "provenance": []
    },
    "kernelspec": {
      "display_name": "Python 3",
      "name": "python3"
    },
    "language_info": {
      "name": "python"
    }
  },
  "nbformat": 4,
  "nbformat_minor": 0
}